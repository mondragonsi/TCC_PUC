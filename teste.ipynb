{
 "cells": [
  {
   "cell_type": "code",
   "execution_count": 47,
   "metadata": {},
   "outputs": [],
   "source": [
    "from pathlib import Path\n",
    "from langchain_community.document_loaders.pdf import PyPDFLoader\n",
    "from langchain_community.vectorstores.faiss import FAISS\n",
    "from langchain.memory import ConversationBufferMemory\n",
    "from langchain.chains.conversational_retrieval.base import ConversationalRetrievalChain\n",
    "from langchain_text_splitters import RecursiveCharacterTextSplitter\n",
    "from langchain_openai.embeddings import OpenAIEmbeddings\n",
    "from langchain_openai.chat_models import ChatOpenAI\n",
    "\n",
    "FILES_FOLDER = Path('/Users/mondragon/MDS_GITHUB/TCC_PUC/teste.ipynb').parent / \"files\"\n",
    "MODEL_NAME = \"gpt-4o-mini\"\n",
    "\n",
    "def document_importer():\n",
    "    documents = []\n",
    "    for file in FILES_FOLDER.glob(\"*.pdf\"):\n",
    "        loader = PyPDFLoader(str(file))\n",
    "        documents_file = loader.load()\n",
    "        documents.extend(documents_file)  # Add the documents to the list\n",
    "\n",
    "    if not documents:\n",
    "        print(\"No documents found in the specified directory.\")\n",
    "    else:\n",
    "        print(f\"Loaded {len(documents)} documents from {file}\")\n",
    "\n",
    "    return documents\n",
    "\n",
    "\n",
    "def split_documents(documents):\n",
    "    recur_splitter = RecursiveCharacterTextSplitter(\n",
    "        chunk_size=2500,\n",
    "        chunk_overlap=250,\n",
    "        separators=[\"\\n\\n\", \"\\n\", \".\", \" \", \"\"]\n",
    "    )\n",
    "    documents = recur_splitter.split_documents(documents)\n",
    "\n",
    "    for i, doc in enumerate(documents):\n",
    "        doc.metadata['source'] = doc.metadata['source'].split('/')[1]\n",
    "        doc.metadata['doc_id'] = i\n",
    "    return documents\n",
    "\n",
    "\n",
    "def create_vector_store(documents):\n",
    "    embeddings_model = OpenAIEmbeddings()\n",
    "    vector_store = FAISS.from_documents(\n",
    "        documents=documents,\n",
    "        embedding=embeddings_model\n",
    "    )\n",
    "    return vector_store\n",
    "\n",
    "\n",
    "def create_chain_chat(vector_store):\n",
    "    chat = ChatOpenAI(model_name=MODEL_NAME)\n",
    "    memory = ConversationBufferMemory(return_messages=True)\n",
    "\n",
    "    retriever = vector_store.as_retriever()\n",
    "    chat_chain = ConversationalRetrievalChain.from_llm(\n",
    "        llm=chat,\n",
    "        memory=memory,\n",
    "        retriever=retriever,\n",
    "        return_source_documents=True,\n",
    "        verbose=True\n",
    "    )\n",
    "    return chat_chain"
   ]
  },
  {
   "cell_type": "code",
   "execution_count": 49,
   "metadata": {},
   "outputs": [
    {
     "name": "stdout",
     "output_type": "stream",
     "text": [
      "Loaded 9 documents from /Users/mondragon/MDS_GITHUB/TCC_PUC/files/PEC-9-2023.pdf\n",
      "Number of documents imported: 9\n",
      "Number of documents after splitting: 10\n"
     ]
    }
   ],
   "source": [
    "    # Run the functions\n",
    "    documents = document_importer()\n",
    "    print(f\"Number of documents imported: {len(documents)}\")\n",
    "    documents = split_documents(documents)\n",
    "    print(f\"Number of documents after splitting: {len(documents)}\")\n",
    "    if documents:\n",
    "        vector_store = create_vector_store(documents)\n",
    "        chat_chain = create_chain_chat(vector_store)\n",
    "    else:\n",
    "        print(\"Cannot create vector store and chat chain without documents.\")"
   ]
  }
 ],
 "metadata": {
  "kernelspec": {
   "display_name": "Python 3",
   "language": "python",
   "name": "python3"
  },
  "language_info": {
   "codemirror_mode": {
    "name": "ipython",
    "version": 3
   },
   "file_extension": ".py",
   "mimetype": "text/x-python",
   "name": "python",
   "nbconvert_exporter": "python",
   "pygments_lexer": "ipython3",
   "version": "3.11.9"
  }
 },
 "nbformat": 4,
 "nbformat_minor": 2
}
